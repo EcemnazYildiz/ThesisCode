{
 "cells": [
  {
   "cell_type": "code",
   "execution_count": 1,
   "id": "91ad73b0",
   "metadata": {},
   "outputs": [
    {
     "name": "stderr",
     "output_type": "stream",
     "text": [
      "Registered S3 methods overwritten by 'ggplot2':\n",
      "  method         from \n",
      "  [.quosures     rlang\n",
      "  c.quosures     rlang\n",
      "  print.quosures rlang\n",
      "Registered S3 method overwritten by 'rvest':\n",
      "  method            from\n",
      "  read_xml.response xml2\n",
      "── Attaching packages ─────────────────────────────────────── tidyverse 1.2.1 ──\n",
      "✔ ggplot2 3.1.1     ✔ purrr   0.3.2\n",
      "✔ tibble  3.1.0     ✔ dplyr   1.0.5\n",
      "✔ tidyr   1.1.3     ✔ stringr 1.4.0\n",
      "✔ readr   1.3.1     ✔ forcats 0.4.0\n",
      "Warning message:\n",
      "“package ‘tibble’ was built under R version 3.6.3”Warning message:\n",
      "“package ‘tidyr’ was built under R version 3.6.3”Warning message:\n",
      "“package ‘dplyr’ was built under R version 3.6.3”── Conflicts ────────────────────────────────────────── tidyverse_conflicts() ──\n",
      "✖ dplyr::between()   masks data.table::between()\n",
      "✖ dplyr::filter()    masks stats::filter()\n",
      "✖ dplyr::first()     masks data.table::first()\n",
      "✖ dplyr::lag()       masks stats::lag()\n",
      "✖ dplyr::last()      masks data.table::last()\n",
      "✖ purrr::transpose() masks data.table::transpose()\n",
      "Loading required package: igraph\n",
      "\n",
      "Attaching package: ‘igraph’\n",
      "\n",
      "The following objects are masked from ‘package:dplyr’:\n",
      "\n",
      "    as_data_frame, groups, union\n",
      "\n",
      "The following objects are masked from ‘package:purrr’:\n",
      "\n",
      "    compose, simplify\n",
      "\n",
      "The following object is masked from ‘package:tidyr’:\n",
      "\n",
      "    crossing\n",
      "\n",
      "The following object is masked from ‘package:tibble’:\n",
      "\n",
      "    as_data_frame\n",
      "\n",
      "The following objects are masked from ‘package:stats’:\n",
      "\n",
      "    decompose, spectrum\n",
      "\n",
      "The following object is masked from ‘package:base’:\n",
      "\n",
      "    union\n",
      "\n",
      "Warning message:\n",
      "“package ‘lhs’ was built under R version 3.6.3”"
     ]
    }
   ],
   "source": [
    "rm(list=ls())\n",
    "\n",
    "library(data.table)\n",
    "library(tidyverse)\n",
    "library(rJava)\n",
    "library(RNetLogo)\n",
    "library(lhs)\n",
    "\n",
    "options(warn = -1)"
   ]
  },
  {
   "cell_type": "code",
   "execution_count": 2,
   "id": "8fc54a3b",
   "metadata": {},
   "outputs": [],
   "source": [
    "nl.model <- \"info_cascade_update_TDP_JPF_2020\"\n",
    "nl.path <- \"/Users/ecemnaz.yildiz/Documents/NetLogo 6.0.4/Java\"\n",
    "file.path <- \"/Users/ecemnaz.yildiz/Documents/Personal/Thesis/\"\n",
    "model.path <- paste0(file.path,nl.model,\".nlogo\")\n",
    "\n",
    "data.path <- \"/Users/ecemnaz.yildiz/Documents/Personal/Thesis/Data/\"\n",
    "logFile = paste0(data.path,\"data_log.txt\")\n",
    "\n",
    "NLStart(nl.path, gui = FALSE,nl.jarname='netlogo-6.0.4.jar', nl.obj=nl.model)\n",
    "NLLoadModel (model.path, nl.obj=nl.model)"
   ]
  },
  {
   "cell_type": "code",
   "execution_count": 3,
   "id": "bef4b04c",
   "metadata": {},
   "outputs": [],
   "source": [
    "#model = ifelse(nl.model == \"Segregation\",\"basic\",\"dummy\")\n",
    "model = \"info_cascade_update\""
   ]
  },
  {
   "cell_type": "code",
   "execution_count": 4,
   "id": "11f28bf5",
   "metadata": {},
   "outputs": [],
   "source": [
    "## Set model parameters\n",
    " # Number of replications for each instance\n",
    "nofrep = 30 #100\n",
    "\n",
    "feature_names = c(\n",
    "    \"max_links\",\n",
    "    \"evidence\",\n",
    "    \"sc-bel-prop\",\n",
    "    \"prop-likelihood\",\n",
    "    \"n_init_believers\",\n",
    "    \"prior-mean\",\n",
    "    \"prior-sd\",\n",
    "    \"expertise_influence\")  \n",
    "output_name = c(\"cl-prop-same\")\n",
    "\n",
    " # Number of input parameters of the agent-based model\n",
    "nofparams = length(feature_names)"
   ]
  },
  {
   "cell_type": "code",
   "execution_count": 5,
   "id": "21b8f79c",
   "metadata": {},
   "outputs": [],
   "source": [
    "test_ins = 30\n",
    "train_ins_oneshot = 30\n",
    "train_ins_Ad = 30\n",
    "\n",
    "my.seed =8"
   ]
  },
  {
   "cell_type": "markdown",
   "id": "1577a65c",
   "metadata": {},
   "source": [
    "## Functions"
   ]
  },
  {
   "cell_type": "code",
   "execution_count": 6,
   "id": "a9a06dcb",
   "metadata": {},
   "outputs": [],
   "source": [
    "run_model <- function(feature_values){    \n",
    "    k = length(feature_names)    \n",
    "    for(i in 1:k){\n",
    "        NLCommand(paste0(\"set \",feature_names[i],\" \",feature_values[i]), nl.obj = nl.model)      \n",
    "    }\n",
    "    NLCommand(\"setup\", nl.obj = nl.model)\n",
    "    NLDoCommand(30, \"go\", nl.obj = nl.model) \n",
    "    result <- NLReport(output_name, nl.obj = nl.model)\n",
    "    return(result)   \n",
    "}\n",
    "\n",
    "run_replicas <- function(nofrep,feature_values) {\n",
    "    replicas = matrix(NA, ncol = nofrep, nrow = 1) # Save the result of each replication\n",
    "    for(i in 1:nofrep){\n",
    "        replicas[i]= run_model(feature_values)\n",
    "    }\n",
    "    aggregated_result = mean(replicas)\n",
    "    return(aggregated_result)\n",
    "}\n",
    "\n",
    "run_ABM = function(nofrep,nofinstances,unlabeledset){\n",
    "   unlabeledset = setcolorder(unlabeledset,feature_names) \n",
    "   for(i in 1:nofinstances){\n",
    "        unlabeledset[i, output :=  run_replicas(nofrep, as.matrix(unlabeledset[i,]))] \n",
    "        NLQuit(all = TRUE)\n",
    "        NLStart(nl.path, gui = FALSE,nl.jarname='netlogo-6.0.4.jar', nl.obj=nl.model)\n",
    "        NLLoadModel (model.path, nl.obj=nl.model)\n",
    "    } \n",
    "    return(unlabeledset)\n",
    "}"
   ]
  },
  {
   "cell_type": "markdown",
   "id": "ef55df83",
   "metadata": {},
   "source": [
    "## Unlabeled Pool"
   ]
  },
  {
   "cell_type": "code",
   "execution_count": 7,
   "id": "1c0cb112",
   "metadata": {},
   "outputs": [],
   "source": [
    "nl.model = \"info_cascade_update_TDP_JPF_2020\"\n",
    "unlabeled_ins = c(100,200,300,400,500,600,700,800,900,1000)\n",
    "model = \"info_cascade_update\""
   ]
  },
  {
   "cell_type": "code",
   "execution_count": 8,
   "id": "49e72450",
   "metadata": {},
   "outputs": [],
   "source": [
    "for(n in unlabeled_ins){\n",
    "set.seed(n - my.seed)\n",
    "    \n",
    "unlabeled_pool = as.data.table(maximinLHS(n = n, k = nofparams, dup = 5))\n",
    "  \n",
    "    unlabeled_pool$V1  = qunif(unlabeled_pool$V1, 2, 500) #max_links\n",
    "    unlabeled_pool$V2  = qunif(unlabeled_pool$V2, 0, 100) #evidence\n",
    "    unlabeled_pool$V3  = qunif(unlabeled_pool$V3, 0, 5)   #sc-bel-prop\n",
    "    unlabeled_pool$V4  = qunif(unlabeled_pool$V4, 0, 1)   #prop-likelihood\n",
    "    unlabeled_pool$V5  = qunif(unlabeled_pool$V5, 0, 100) #n_init_believers\n",
    "    unlabeled_pool$V6  = qunif(unlabeled_pool$V6, 0, 1)   #prior-mean\n",
    "    unlabeled_pool$V7  = qunif(unlabeled_pool$V7, 0, 1)   #prior-sd\n",
    "    unlabeled_pool$V8  = qunif(unlabeled_pool$V8, 0, 1)   #expertise_influence\n",
    "        \n",
    "    setnames(unlabeled_pool, c(paste0(\"V\",1:nofparams)), feature_names)    \n",
    "    unlabeled_pool[,idx := 1:.N]\n",
    "        \n",
    "    fwrite(unlabeled_pool, paste0(data.path,\"unlabeled_pool\",\"_\",model,\"_\",n,\"_\",Sys.Date(),\".csv\"))\n",
    "}"
   ]
  },
  {
   "cell_type": "markdown",
   "id": "84e8d3a6",
   "metadata": {},
   "source": [
    "## Test Data"
   ]
  },
  {
   "cell_type": "code",
   "execution_count": 9,
   "id": "1aa7bfe2",
   "metadata": {},
   "outputs": [
    {
     "name": "stdout",
     "output_type": "stream",
     "text": [
      "[1] \"ABM run start time : 2022-01-05 22:19:00\"\n",
      "[1] \"ABM run end time : 2022-01-05 22:38:58\"\n"
     ]
    }
   ],
   "source": [
    "for(k in test_ins){\n",
    "    set.seed(k - my.seed)\n",
    "\n",
    "    test_set = matrix(nrow = k, ncol = nofparams) %>% data.table()\n",
    "    setnames(test_set, c(paste0(\"V\",1:nofparams)), feature_names)\n",
    "\n",
    "    test_set$`max_links`          = runif(k, 2, 500) \n",
    "    test_set$`evidence`           = runif(k, 0, 100) \n",
    "    test_set$`sc-bel-prop`        = runif(k, 0, 5) \n",
    "    test_set$`prop-likelihood`    = runif(k, 0, 1) \n",
    "    test_set$`n_init_believers`   = runif(k, 0, 100)\n",
    "    test_set$`prior-mean`         = runif(k, 0, 1)\n",
    "    test_set$`prior-sd`           = runif(k, 0, 1)\n",
    "    test_set$`expertise_influence`= runif(k, 0, 1)\n",
    "    \n",
    "    test_start = paste0(\"ABM run start time : \",Sys.time())\n",
    "    print(test_start)\n",
    "    \n",
    "    write(paste0(\"test_set\",\"_\",model,\"_\",k,\"_seed\",my.seed,\"   \",test_start),logFile, append=TRUE, sep = \"\\n\" )    \n",
    "\n",
    "    test_set = run_ABM(nofrep,k,test_set) %>% as.data.table()\n",
    "\n",
    "    test_end = paste0(\"ABM run end time : \",Sys.time())\n",
    "    print(test_end)\n",
    "    \n",
    "    write(paste0(\"test_set\",\"_\",model,\"_\",k,\"_seed\",my.seed,\"   \",test_end),logFile, append=TRUE, sep = \"\\n\" )    \n",
    "\n",
    "    fwrite(test_set, paste0(data.path,\"test_set\",\"_\",model,\"_\",k,\"_seed\",my.seed,\"_\",Sys.Date(),\".csv\"))\n",
    "}"
   ]
  },
  {
   "cell_type": "markdown",
   "id": "480cfde6",
   "metadata": {},
   "source": [
    "## Train Data"
   ]
  },
  {
   "cell_type": "code",
   "execution_count": 10,
   "id": "8f58e00e",
   "metadata": {},
   "outputs": [
    {
     "name": "stdout",
     "output_type": "stream",
     "text": [
      "[1] \"ABM run start time : 2022-01-05 22:41:04\"\n",
      "[1] \"ABM run end time : 2022-01-05 23:02:02\"\n"
     ]
    }
   ],
   "source": [
    "for(m in train_ins_oneshot){\n",
    "    set.seed(m-my.seed)\n",
    "    \n",
    "    training_set = as.data.table(maximinLHS(n = m, k = nofparams, dup = 5))\n",
    "\n",
    "    training_set$V1  = qunif(training_set$V1, 2, 500)    #max_links\n",
    "    training_set$V2  = qunif(training_set$V2, 0, 100)    #evidence\n",
    "    training_set$V3  = qunif(training_set$V3, 0, 5)      #sc-bel-prop\n",
    "    training_set$V4  = qunif(training_set$V4, 0, 1)      #prop-likelihood    \n",
    "    training_set$V5  = qunif(training_set$V5, 0, 100)    #n_init_believers\n",
    "    training_set$V6  = qunif(training_set$V6,0, 1)       #prior-mean\n",
    "    training_set$V7  = qunif(training_set$V7,0, 1)       #prior-sd\n",
    "    training_set$V8  = qunif(training_set$V8,0, 1)       #expertise_influence\n",
    "\n",
    "    setnames(training_set, c(paste0(\"V\",1:nofparams)), feature_names)\n",
    "    training_set$output <- 0.00\n",
    "\n",
    "    training_start = paste0(\"ABM run start time : \",Sys.time())\n",
    "    print(training_start)\n",
    "    write(paste0(\"training_set\",\"_\",model,\"_\",m,\"_seed\",my.seed,\"   \",training_start),logFile, append=TRUE, sep = \"\\n\" )    \n",
    "\n",
    "    training_set = run_ABM(nofrep,m,training_set) %>% as.data.table()\n",
    "\n",
    "    training_end = paste0(\"ABM run end time : \",Sys.time())\n",
    "    print(training_end)\n",
    "    write(paste0(\"training_set\",\"_\",model,\"_\",m,\"_seed\",my.seed,\"   \",training_end),logFile, append=TRUE, sep = \"\\n\" )    \n",
    "\n",
    "    fwrite(training_set, paste0(data.path,\"training_set\",\"_\",model,\"_\",m,\"_seed\",my.seed,\"_\",Sys.Date(),\".csv\"))\n",
    "}"
   ]
  },
  {
   "cell_type": "code",
   "execution_count": 11,
   "id": "fd1384e3",
   "metadata": {},
   "outputs": [],
   "source": [
    "NLQuit(all = TRUE)"
   ]
  }
 ],
 "metadata": {
  "kernelspec": {
   "display_name": "R",
   "language": "R",
   "name": "ir"
  },
  "language_info": {
   "codemirror_mode": "r",
   "file_extension": ".r",
   "mimetype": "text/x-r-source",
   "name": "R",
   "pygments_lexer": "r",
   "version": "3.6.1"
  }
 },
 "nbformat": 4,
 "nbformat_minor": 5
}
