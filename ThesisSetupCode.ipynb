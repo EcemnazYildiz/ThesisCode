{
 "cells": [
  {
   "cell_type": "markdown",
   "id": "e6920bbd",
   "metadata": {},
   "source": [
    "## Loading Packages & Initialization"
   ]
  },
  {
   "cell_type": "code",
   "execution_count": 1,
   "id": "167eb5ae",
   "metadata": {
    "collapsed": true
   },
   "outputs": [
    {
     "name": "stderr",
     "output_type": "stream",
     "text": [
      "Registered S3 methods overwritten by 'ggplot2':\n",
      "  method         from \n",
      "  [.quosures     rlang\n",
      "  c.quosures     rlang\n",
      "  print.quosures rlang\n",
      "Registered S3 method overwritten by 'rvest':\n",
      "  method            from\n",
      "  read_xml.response xml2\n",
      "── Attaching packages ─────────────────────────────────────── tidyverse 1.2.1 ──\n",
      "✔ ggplot2 3.1.1     ✔ purrr   0.3.2\n",
      "✔ tibble  3.1.0     ✔ dplyr   1.0.5\n",
      "✔ tidyr   1.1.3     ✔ stringr 1.4.0\n",
      "✔ readr   1.3.1     ✔ forcats 0.4.0\n",
      "Warning message:\n",
      "“package ‘tibble’ was built under R version 3.6.3”Warning message:\n",
      "“package ‘tidyr’ was built under R version 3.6.3”Warning message:\n",
      "“package ‘dplyr’ was built under R version 3.6.3”── Conflicts ────────────────────────────────────────── tidyverse_conflicts() ──\n",
      "✖ dplyr::between()   masks data.table::between()\n",
      "✖ dplyr::filter()    masks stats::filter()\n",
      "✖ dplyr::first()     masks data.table::first()\n",
      "✖ dplyr::lag()       masks stats::lag()\n",
      "✖ dplyr::last()      masks data.table::last()\n",
      "✖ purrr::transpose() masks data.table::transpose()\n",
      "Loading required package: igraph\n",
      "\n",
      "Attaching package: ‘igraph’\n",
      "\n",
      "The following objects are masked from ‘package:dplyr’:\n",
      "\n",
      "    as_data_frame, groups, union\n",
      "\n",
      "The following objects are masked from ‘package:purrr’:\n",
      "\n",
      "    compose, simplify\n",
      "\n",
      "The following object is masked from ‘package:tidyr’:\n",
      "\n",
      "    crossing\n",
      "\n",
      "The following object is masked from ‘package:tibble’:\n",
      "\n",
      "    as_data_frame\n",
      "\n",
      "The following objects are masked from ‘package:stats’:\n",
      "\n",
      "    decompose, spectrum\n",
      "\n",
      "The following object is masked from ‘package:base’:\n",
      "\n",
      "    union\n",
      "\n",
      "Warning message:\n",
      "“package ‘lhs’ was built under R version 3.6.3”\n",
      "Attaching package: ‘plotly’\n",
      "\n",
      "The following object is masked from ‘package:igraph’:\n",
      "\n",
      "    groups\n",
      "\n",
      "The following object is masked from ‘package:ggplot2’:\n",
      "\n",
      "    last_plot\n",
      "\n",
      "The following object is masked from ‘package:stats’:\n",
      "\n",
      "    filter\n",
      "\n",
      "The following object is masked from ‘package:graphics’:\n",
      "\n",
      "    layout\n",
      "\n",
      "Loading required package: lattice\n",
      "\n",
      "Attaching package: ‘caret’\n",
      "\n",
      "The following object is masked from ‘package:purrr’:\n",
      "\n",
      "    lift\n",
      "\n",
      "randomForest 4.6-14\n",
      "Type rfNews() to see new features/changes/bug fixes.\n",
      "\n",
      "Attaching package: ‘randomForest’\n",
      "\n",
      "The following object is masked from ‘package:dplyr’:\n",
      "\n",
      "    combine\n",
      "\n",
      "The following object is masked from ‘package:ggplot2’:\n",
      "\n",
      "    margin\n",
      "\n",
      "Warning message:\n",
      "“package ‘factoextra’ was built under R version 3.6.3”Welcome! Want to learn more? See two factoextra-related books at https://goo.gl/ve3WBa\n",
      "Loading required package: gridExtra\n",
      "Warning message:\n",
      "“package ‘gridExtra’ was built under R version 3.6.3”\n",
      "Attaching package: ‘gridExtra’\n",
      "\n",
      "The following object is masked from ‘package:randomForest’:\n",
      "\n",
      "    combine\n",
      "\n",
      "The following object is masked from ‘package:dplyr’:\n",
      "\n",
      "    combine\n",
      "\n"
     ]
    }
   ],
   "source": [
    "#### Initializiton ####\n",
    "rm(list = ls())\n",
    "\n",
    "library(data.table)\n",
    "library(tidyverse)\n",
    "library(rJava)\n",
    "library(RNetLogo)\n",
    "\n",
    "library(lhs)  # For maximin Latin hypercube sampling\n",
    "library(ggplot2)\n",
    "library(plotly)  # For beautiful plotting\n",
    "library(caret)\n",
    "library(randomForest)\n",
    "library(factoextra)\n",
    "library(e1071)\n",
    "library(TSrepr)  # for evaluating predictive power\n",
    "\n",
    "require(gridExtra)\n",
    "\n",
    "options(warn = -1)"
   ]
  },
  {
   "cell_type": "markdown",
   "id": "10638dd1",
   "metadata": {},
   "source": [
    "## Functions"
   ]
  },
  {
   "cell_type": "markdown",
   "id": "eaadd111",
   "metadata": {},
   "source": [
    "### Log_entry"
   ]
  },
  {
   "cell_type": "code",
   "execution_count": 3,
   "id": "b020f263",
   "metadata": {},
   "outputs": [],
   "source": [
    "log_entry <- function(){\n",
    "    write(paste0( \"model =\",nl.model,\"\\n\"\n",
    "             ,\"nofrep =\",nofrep,\"\\n\"\n",
    "             ,paste0(c(\"metarep =\",metarep),collapse = \" \"),\"\\n\"\n",
    "             ,\"ntree =\",ntree,\"\\n\"\n",
    "             #,\"mtry =\",mtry,\"\\n\"\n",
    "             ,\"mtry.multiplier =\",mtry.multiplier,\"\\n\"\n",
    "             ,\"nperm =\",nperm,\"\\n\"\n",
    "             ,\"iteration_budget =\",iteration_budget,\"\\n\"\n",
    "             ,\"unlabeled_ins =\",unlabeled_ins,\"\\n\"\n",
    "             ,\"unlabeled.type =\",unlabeled.type,\"\\n\"\n",
    "             ,paste0(c(\"test_ins =\",test_ins),collapse = \" \"),\"\\n\"\n",
    "             ,\"train_ins_Ad =\",train_ins_Ad,\"\\n\"\n",
    "             ,\"selected_ins =\",selected_ins,\"\\n\"\n",
    "             ,\"p =\",p,\"\\n\"\n",
    "             ,\"oob_allowance =\",oob_allowance,\"\\n\"  \n",
    "             ,paste0(c(\"seed.focus =\",seed.focus),collapse = \" \"),\"\\n\"             \n",
    "             ,\"error_type =\",error_type,\"\\n\" \n",
    "             ,\"eliminaton.type =\",elimination.type,\"\\n\"\n",
    "             ,\"elimination_start_iter =\",elimination_start_iter,\"\\n\"    \n",
    "             ,\"selection_metric =\",selection_metric,\"\\n\" \n",
    "             ,\"Date =\", Sys.Date()\n",
    "             )\n",
    "      ,ReadMe, append=TRUE, sep = \"\\n\" )   \n",
    "}"
   ]
  },
  {
   "cell_type": "code",
   "execution_count": 4,
   "id": "cedf62ce",
   "metadata": {},
   "outputs": [],
   "source": [
    "log_entry.sampling <- function(){\n",
    "    write(paste0( \"model =\",nl.model,\"\\n\"\n",
    "             ,\"nofrep =\",nofrep,\"\\n\"\n",
    "             ,paste0(c(\"metarep =\",metarep),collapse = \" \"),\"\\n\"\n",
    "             ,\"ntree =\",ntree,\"\\n\"\n",
    "             ,\"mtry =\",mtry,\"\\n\"\n",
    "             ,\"nperm =\",nperm,\"\\n\"\n",
    "             ,\"iteration_budget =\",iteration_budget,\"\\n\"\n",
    "             ,\"unlabeled_ins =\",unlabeled_ins,\"\\n\"\n",
    "             ,\"unlabeled.type =\",unlabeled.type,\"\\n\"\n",
    "             ,paste0(c(\"test_ins =\",test_ins),collapse = \" \"),\"\\n\"\n",
    "             ,\"train_ins_Ad =\",train_ins_Ad,\"\\n\"\n",
    "             ,\"selected_ins =\",selected_ins,\"\\n\"\n",
    "             ,\"h =\",h,\"\\n\"\n",
    "             ,paste0(c(\"seed.focus =\",seed.focus),collapse = \" \"),\"\\n\"             \n",
    "             ,\"error_type =\",error_type,\"\\n\" \n",
    "             ,\"sample.type =\",sample.type,\"\\n\"\n",
    "             ,\"selection_metric =\",selection_metric,\"\\n\" \n",
    "             ,\"Date =\", Sys.Date()\n",
    "             )\n",
    "      ,ReadMe, append=TRUE, sep = \"\\n\" )   \n",
    "}"
   ]
  },
  {
   "cell_type": "markdown",
   "id": "1b03690c",
   "metadata": {},
   "source": [
    "### run_log_entry "
   ]
  },
  {
   "cell_type": "code",
   "execution_count": 5,
   "id": "97715245",
   "metadata": {},
   "outputs": [],
   "source": [
    "run_log_entry <- function(){\n",
    "    fwrite( data.table(seed = i, rep = r, iter = iter, start = Sys.time())\n",
    "           ,paste0(outputs.path,model.type,\"_run_logs_\",sample.type,\".csv\"), append = TRUE)\n",
    "}"
   ]
  },
  {
   "cell_type": "markdown",
   "id": "8b202205",
   "metadata": {},
   "source": [
    "### run_model "
   ]
  },
  {
   "cell_type": "code",
   "execution_count": 6,
   "id": "04762987",
   "metadata": {},
   "outputs": [],
   "source": [
    "# run_model <- function(feature_names,feature_values){ # both should be in character list format both should be in character list format\n",
    "run_model <- function(feature_values) {\n",
    "    k = length(feature_names)\n",
    "    for (i in 1:k) {\n",
    "        NLCommand(paste0(\"set \", feature_names[i], \" \", feature_values[i]), nl.obj = nl.model)\n",
    "    }\n",
    "    NLCommand(\"setup\", nl.obj = nl.model)\n",
    "    NLDoCommand(30, \"go\", nl.obj = nl.model)\n",
    "    result <- NLReport(output_name, nl.obj = nl.model)\n",
    "    return(result)\n",
    "}"
   ]
  },
  {
   "cell_type": "markdown",
   "id": "7034e392",
   "metadata": {},
   "source": [
    "### run_replicas"
   ]
  },
  {
   "cell_type": "code",
   "execution_count": 7,
   "id": "6df14389",
   "metadata": {},
   "outputs": [],
   "source": [
    "# run_replicas <- function(nofrep,feature_names,feature_values) {\n",
    "run_replicas <- function(nofrep, feature_values) {\n",
    "    replicas = matrix(NA, ncol = nofrep, nrow = 1)  # Save the result of each replication\n",
    "    for (i in 1:nofrep) {\n",
    "        # replicas[i]= run_model(feature_names,feature_values)\n",
    "        replicas[i] = run_model(feature_values)\n",
    "    }\n",
    "    aggregated_result = mean(replicas)\n",
    "    return(aggregated_result)\n",
    "}"
   ]
  },
  {
   "cell_type": "markdown",
   "id": "a89782f5",
   "metadata": {},
   "source": [
    "### run_ABM "
   ]
  },
  {
   "cell_type": "code",
   "execution_count": 8,
   "id": "97d9b3a8",
   "metadata": {},
   "outputs": [],
   "source": [
    "# run_ABM = function(nofrep,nofinstances,unlabeledset,featurenames = feature_names){\n",
    "run_ABM = function(nofrep, nofinstances, unlabeledset) {\n",
    "    # unlabeledset = setcolorder(unlabeledset,featurenames)\n",
    "    unlabeledset = setcolorder(unlabeledset, feature_names)\n",
    "    for (i in 1:nofinstances) {\n",
    "        # unlabeledset[i, output := run_replicas(nofrep,featurenames,\n",
    "        # as.matrix(unlabeledset[i,]))]\n",
    "        unlabeledset[i, `:=`(output, run_replicas(nofrep, as.matrix(unlabeledset[i,])))]\n",
    "        NLQuit(all = TRUE)\n",
    "        NLStart(nl.path, gui = FALSE,nl.jarname='netlogo-6.0.4.jar', nl.obj=nl.model)\n",
    "        NLLoadModel (model.path, nl.obj=nl.model)\n",
    "    }\n",
    "    return(unlabeledset)\n",
    "}"
   ]
  },
  {
   "cell_type": "markdown",
   "id": "214cc11a",
   "metadata": {},
   "source": [
    "### error functions "
   ]
  },
  {
   "cell_type": "code",
   "execution_count": 9,
   "id": "e8cd0119",
   "metadata": {},
   "outputs": [],
   "source": [
    "# error functions on test data\n",
    "rmse_func <- function(actual, predicted) {\n",
    "    error = predicted - actual\n",
    "    return(sqrt(mean(error^2)))\n",
    "}\n",
    "\n",
    "mape_func <- function(actual, predicted) {\n",
    "    return((abs(actual - predicted)/actual) * 100)\n",
    "}\n",
    "\n",
    "bias_func <- function(actual, predicted) {\n",
    "    return((actual - predicted)/actual)\n",
    "}\n",
    "\n",
    "# error functions on train data\n",
    "obb_error_func <- function(model) {\n",
    "    if (model$type == \"regression\") {\n",
    "        oob_error = model$mse[model$ntree]\n",
    "    } else if (model$type == \"classification\") {\n",
    "        oob_error = model$err.rate\n",
    "    }\n",
    "    return(oob_error)\n",
    "}"
   ]
  },
  {
   "cell_type": "markdown",
   "id": "6e288c96",
   "metadata": {},
   "source": [
    "### get_test_predictions"
   ]
  },
  {
   "cell_type": "code",
   "execution_count": 10,
   "id": "c799538d",
   "metadata": {},
   "outputs": [],
   "source": [
    "# prediction functions\n",
    "get_test_predictions <- function(model, testset, errortype) {\n",
    "    \n",
    "    predictedLabels <- predict(model, testset)\n",
    "    predictedLabels <- cbind(testset, predictedLabels)\n",
    "    setnames(predictedLabels, \"predictedLabels\", \"pred_output\")\n",
    "    \n",
    "    predictedLabels[, `:=`(MAPE = mapply(function(x, y) mape_func(x, y), output, pred_output), \n",
    "                           RMSE = mapply(function(x, y) rmse_func(x, y), output, pred_output), \n",
    "                           BIAS = mapply(function(x, y) bias_func(x, y), output, pred_output))]\n",
    "    \n",
    "    performance_table = predictedLabels[, .(mae  = mae(output,pred_output),\n",
    "                                            rmse = rmse(output,pred_output),\n",
    "                                            mape = mape(output,pred_output))\n",
    "                                        ,.(size)]\n",
    "    \n",
    "    \n",
    "    return(list(predictedLabels, performance_table))    \n",
    "}"
   ]
  },
  {
   "cell_type": "markdown",
   "id": "63be4488",
   "metadata": {},
   "source": [
    "### sample_selection"
   ]
  },
  {
   "cell_type": "code",
   "execution_count": 11,
   "id": "9c988c76",
   "metadata": {},
   "outputs": [],
   "source": [
    "# Adaptive sample selection function with an uncertainty measure depending on 'selection_metric'\n",
    "sample_selection <- function(selected_ins, unlabeled_set, model,selection_metric) {\n",
    "    ind_pred <- t(predict(model, unlabeled_set, predict.all = TRUE)$individual) %>% \n",
    "        data.table()  # predictions by each tree in the forest\n",
    "    ind_pred_eval = data.table()  \n",
    " #   ind_pred_eval[, `:=`(idx, 1:.N)]\n",
    "    \n",
    "    if (selection_metric == \"sd\") {\n",
    "        # standard deviation calculation\n",
    "        s_dev = sapply(ind_pred, sd) %>% data.table()\n",
    "        setnames(s_dev, \".\", \"sd\")\n",
    "        ind_pred_eval = cbind(ind_pred_eval, s_dev)\n",
    "        \n",
    "        ind_pred_eval[, `:=`(idx, 1:.N)]\n",
    "        ind_pred_eval = ind_pred_eval[order(-sd)][1:selected_ins]\n",
    "    } else if (selection_metric == \"range\") {\n",
    "        # range calculation\n",
    "        range = sapply(ind_pred, range) %>% t() %>% data.table()\n",
    "        range = range[, .(range = abs(range[, 1] - range[, 2]))]\n",
    "        setnames(range, \"range.V1\", \"range\")\n",
    "        ind_pred_eval = cbind(ind_pred_eval, range)\n",
    "        \n",
    "        ind_pred_eval[, `:=`(idx, 1:.N)]\n",
    "        ind_pred_eval = ind_pred_eval[order(-range)][1:selected_ins]\n",
    "    } else if (selection_metric == \"coefvar\") {\n",
    "        #coeff variance calculation\n",
    "        s_dev = sapply(ind_pred, sd) %>% data.table()\n",
    "        setnames(s_dev, \".\", \"sd\")\n",
    "        s_mean = sapply(ind_pred, mean) %>% data.table()\n",
    "        setnames(s_mean, \".\", \"mean\")\n",
    "        coeff_var = cbind(s_dev,s_mean) \n",
    "        coeff_var = coeff_var[,.(c_var = (sd / mean)* 100)]\n",
    "        ind_pred_eval = cbind(ind_pred_eval, coeff_var)\n",
    "        \n",
    "        ind_pred_eval[, `:=`(idx, 1:.N)]\n",
    "        ind_pred_eval = ind_pred_eval[order(-c_var)][1:selected_ins]\n",
    "    }\n",
    "    \n",
    "    unlabeled_set[, `:=`(idx, 1:.N)]\n",
    "    train_candidates = unlabeled_set[ind_pred_eval$idx]\n",
    "    \n",
    "    return(train_candidates)\n",
    "}"
   ]
  },
  {
   "cell_type": "markdown",
   "id": "3ec48f89",
   "metadata": {},
   "source": [
    "### random_sample_selection"
   ]
  },
  {
   "cell_type": "code",
   "execution_count": 12,
   "id": "c52027d5",
   "metadata": {},
   "outputs": [],
   "source": [
    "# Random sample selection\n",
    "random_sample_selection <- function(selected_ins, unlabeled_set) {\n",
    "    \n",
    "    unlabeled_set[, `:=`(idx, 1:.N)]\n",
    "    \n",
    "    train_candidate_idx = sample(unlabeled_set$idx, selected_ins, replace = FALSE, prob = NULL)\n",
    "    train_candidates = unlabeled_set[idx %in% train_candidate_idx]\n",
    "    \n",
    "    return(train_candidates)\n",
    "}"
   ]
  },
  {
   "cell_type": "code",
   "execution_count": 13,
   "id": "b47c594e",
   "metadata": {},
   "outputs": [],
   "source": [
    "dt <- data.table(a = c('a','b','c'),b = c('1','2','3'),c = c('x','y','z'))\n",
    "v <- c('A','B','C')"
   ]
  },
  {
   "cell_type": "code",
   "execution_count": 14,
   "id": "a8585a72",
   "metadata": {},
   "outputs": [
    {
     "data": {
      "text/html": [
       "<table>\n",
       "<thead><tr><th scope=col>a</th><th scope=col>b</th><th scope=col>c</th><th scope=col>idx</th></tr></thead>\n",
       "<tbody>\n",
       "\t<tr><td>b</td><td>2</td><td>y</td><td>2</td></tr>\n",
       "</tbody>\n",
       "</table>\n"
      ],
      "text/latex": [
       "\\begin{tabular}{r|llll}\n",
       " a & b & c & idx\\\\\n",
       "\\hline\n",
       "\t b & 2 & y & 2\\\\\n",
       "\\end{tabular}\n"
      ],
      "text/markdown": [
       "\n",
       "| a | b | c | idx |\n",
       "|---|---|---|---|\n",
       "| b | 2 | y | 2 |\n",
       "\n"
      ],
      "text/plain": [
       "  a b c idx\n",
       "1 b 2 y 2  "
      ]
     },
     "metadata": {},
     "output_type": "display_data"
    }
   ],
   "source": [
    "random_sample_selection(1,dt)"
   ]
  },
  {
   "cell_type": "markdown",
   "id": "9b76e47f",
   "metadata": {},
   "source": [
    "### get_variable_importance"
   ]
  },
  {
   "cell_type": "code",
   "execution_count": 15,
   "id": "71ebedbd",
   "metadata": {},
   "outputs": [],
   "source": [
    "get_variable_importance = function(model) {\n",
    "    \n",
    "    imp <- importance(model, type = 1, scale = FALSE)\n",
    "    names = colnames(t(imp))\n",
    "    ranked_features = names[order(imp, decreasing = TRUE)]\n",
    "    return(ranked_features)\n",
    "}\n",
    "\n",
    "#get_variable_importance <- function(model) {\n",
    "#    importances <- importance(model, type = 1, scale = FALSE)\n",
    "#    selected.vars <- order(importances, decreasing = TRUE)\n",
    "#    ranked_features = feature_names[selected.vars]\n",
    "#    ordered.importances <- importances[selected.vars]\n",
    "#    \n",
    "#    return(ranked_features)\n",
    "#}"
   ]
  },
  {
   "cell_type": "markdown",
   "id": "48180e27",
   "metadata": {},
   "source": [
    "### get_importance_data --- unused"
   ]
  },
  {
   "cell_type": "code",
   "execution_count": 16,
   "id": "646d8d6b",
   "metadata": {},
   "outputs": [],
   "source": [
    "##unique to each seed and rep, updated iter by iter\n",
    "get_importance_data = function(model,type,scaled,n){\n",
    "    #n shows how many iterations' values will be evaluated (moving average n)\n",
    "    iteration_imp = data.table(t(importance(model, type = type, scaled = scaled))) %>% melt()\n",
    "    setnames(iteration_imp,\"variable\",\"feature\")\n",
    "    \n",
    "    imp_history = if(nrow(importance_data) > 0){\n",
    "        copy(importance_data[iter_no >= 1 & iter_no > (iter - n)])\n",
    "    }else{\n",
    "        data.table()\n",
    "    }\n",
    "          \n",
    "    imp_history = rbind(imp_history, data.table(iter_no = iter\n",
    "                                                ,iteration_imp\n",
    "                                                ,cm_mean = as.numeric(NA)))\n",
    "    imp_history[, cm_mean := mean(value),.(feature)]\n",
    "    \n",
    "    return(imp_history[iter_no == iter])\n",
    "    \n",
    "}\n",
    "\n",
    "#importance_data = rbind(importance_data, get_importance_data(model,1,TRUE,3))"
   ]
  },
  {
   "cell_type": "markdown",
   "id": "64310a9f",
   "metadata": {},
   "source": [
    "### importance_partition --- unused"
   ]
  },
  {
   "cell_type": "code",
   "execution_count": 17,
   "id": "0b91e903",
   "metadata": {},
   "outputs": [],
   "source": [
    "# in each iteration the result of this function is checked\n",
    "#importance data should hold historic data for an seed-rep combination through iterations\n",
    "importance_partition = function(grid_partition, iteration_importance_data, column_name) {\n",
    "    # name of the column which grid separation performed will be based on\n",
    "    iteration_importance_data[, `:=`(grid_no, as.numeric(NA))]\n",
    "    iteration_importance_data[get(column_name) < 0, `:=`(grid_no, 0)]\n",
    "    \n",
    "    grid = 0\n",
    "    order = 0\n",
    "    \n",
    "    while (is.na(iteration_importance_data[which.max(iteration_importance_data[[column_name]])]$grid_no)) {\n",
    "        order = order + 1\n",
    "        \n",
    "        grid_up = grid + grid_partition\n",
    "        \n",
    "        idx = which(iteration_importance_data[[column_name]] < grid_up & iteration_importance_data[[column_name]] > grid)       \n",
    "        iteration_importance_data[idx, `:=`(grid_no, order)]        \n",
    "        grid = copy(grid_up)       \n",
    "    }\n",
    "    iteration_importance_data[order(grid_no), `:=`(grid_order, .GRP), .(grid_no)]\n",
    "    \n",
    "    return(iteration_importance_data)\n",
    "}"
   ]
  },
  {
   "cell_type": "markdown",
   "id": "8a6bfc2d",
   "metadata": {},
   "source": [
    "### start_elimination --- unused"
   ]
  },
  {
   "cell_type": "code",
   "execution_count": 18,
   "id": "cfa90415",
   "metadata": {},
   "outputs": [],
   "source": [
    "start_elimination = function(importance_data_partioned){\n",
    "    #partitioned_importance_data\n",
    "    importance_data_partioned = importance_data_partioned[order(iter_no)]\n",
    "    importance_data_partioned[,prev_grid_order := shift(grid_order,1, type = \"lag\"),.(feature)]\n",
    "    importance_data_partioned[,order_diff :=  grid_order - prev_grid_order ]\n",
    "\n",
    "    elimination_start_iter = ifelse(nrow(importance_data_partioned[order_diff == 0,.N,.(iter_no)][N == length(feature_names)]) > 0,\n",
    "                                   importance_data_partioned[order_diff == 0,.N,.(iter_no)][N == length(feature_names)]$iter_no,\n",
    "                                   0)\n",
    "    return(elimination_start_iter)\n",
    "}\n",
    "# returns the iteration number where the elimination starts"
   ]
  },
  {
   "cell_type": "markdown",
   "id": "eb3614f0",
   "metadata": {},
   "source": [
    "### feature_elimination"
   ]
  },
  {
   "cell_type": "code",
   "execution_count": 19,
   "id": "a04f5529",
   "metadata": {},
   "outputs": [],
   "source": [
    "feature_elimination = function(h, feature_list = columns_left, ranked_features) {\n",
    "    \n",
    "    numof_columns_left = length(feature_list) - (h)\n",
    "    columns_left = ranked_features[1:numof_columns_left]\n",
    "    \n",
    "    eliminated_columns = c(eliminated_columns, setdiff(feature_list, columns_left))\n",
    "    \n",
    "    # update total_numof_eliminated_vars\n",
    "    total_numof_eliminated_vars = length(feature_names) - length(columns_left)\n",
    "    \n",
    "    return(list(columns_left, total_numof_eliminated_vars, h, eliminated_columns))\n",
    "}"
   ]
  },
  {
   "cell_type": "markdown",
   "id": "d47ef7af",
   "metadata": {},
   "source": [
    "### refresh_sample_pool "
   ]
  },
  {
   "cell_type": "code",
   "execution_count": 20,
   "id": "4e55b492",
   "metadata": {},
   "outputs": [],
   "source": [
    "refresh_sample_pool <- function(selected.seed, columns_left = feature_names) {\n",
    "    set.seed(selected.seed)\n",
    "    \n",
    "    k = length(columns_left)\n",
    "    unlabeled_pool = as.data.table(maximinLHS(n = unlabeled_ins, k = k, dup = 5))\n",
    "    setnames(unlabeled_pool, c(paste0(\"V\", 1:k)), columns_left)\n",
    "    \n",
    "    for (c in 1:k) {\n",
    "        unlabeled_pool[[c]] = qunif(  unlabeled_pool[[c]]\n",
    "                                    , feature_ranges[feature == colnames(unlabeled_pool)[c]]$min_range\n",
    "                                    , feature_ranges[feature == colnames(unlabeled_pool)[c]]$max_range)\n",
    "    }\n",
    "    \n",
    "    random_pool_all = data.table()\n",
    "    eliminated_columns = setdiff(feature_names, columns_left)\n",
    "    \n",
    "    if (nofparams > k) {\n",
    "        for (e in 1:length(eliminated_columns)) {\n",
    "            random_pool = data.table(runif(  unlabeled_ins\n",
    "                                           , feature_ranges[feature == eliminated_columns[e]]$min_range\n",
    "                                           , feature_ranges[feature == eliminated_columns[e]]$max_range))\n",
    "            setnames(random_pool, eliminated_columns[e])\n",
    "            \n",
    "            random_pool_all = cbind(random_pool_all, random_pool)\n",
    "        }\n",
    "        \n",
    "        unlabeled_pool = cbind(unlabeled_pool, random_pool_all)\n",
    "    }\n",
    "    \n",
    "    return(unlabeled_pool)\n",
    "}"
   ]
  },
  {
   "cell_type": "markdown",
   "id": "1b032db4",
   "metadata": {},
   "source": [
    "### upload_training_set "
   ]
  },
  {
   "cell_type": "code",
   "execution_count": 21,
   "id": "9f628563",
   "metadata": {},
   "outputs": [],
   "source": [
    "upload_training_set <- function(model.type,seed.list,data.size){\n",
    "    training_set_all = data.table()\n",
    "    for( i in seed.list){\n",
    "        training_set.name= paste0(data.path,\"training_set\",\"_\",model.type,\"_\",data.size,\"_seed\",i,\".csv\")\n",
    "        training_set <- fread(training_set.name) \n",
    "    \n",
    "        training_set_all = rbind(training_set_all,data.table(training_set, \"seed\" = i))\n",
    "        rm(training_set,training_set.name)  \n",
    "        }\n",
    "   return(training_set_all)\n",
    "}"
   ]
  },
  {
   "cell_type": "markdown",
   "id": "86579c15",
   "metadata": {},
   "source": [
    "### write_importance.rf"
   ]
  },
  {
   "cell_type": "code",
   "execution_count": 22,
   "id": "d7bd394a",
   "metadata": {},
   "outputs": [],
   "source": [
    "write_importance.rf = function(seed,rep,iter,model,sample.type){\n",
    "    importance_table = data.table()\n",
    "    importance_table = rbind(importance_table, data.table(seed = seed, rep = rep, iter_no = iter\n",
    "                                                      , scaled = \"yes\", type = \"1\",\n",
    "                                                      t(importance(model,type=1,scaled = TRUE)))\n",
    "                            , use.names = FALSE)\n",
    "    importance_table = rbind(importance_table, data.table(seed = seed, rep = rep, iter_no = iter\n",
    "                                                  , scaled = \"yes\", type = \"2\",\n",
    "                                                  t(importance(model,type=2,scaled = TRUE)))\n",
    "                            , use.names = FALSE)\n",
    "    importance_table = rbind(importance_table, data.table(seed = seed, rep = rep, iter_no = iter\n",
    "                                                  , scaled = \"no\", type = \"1\",\n",
    "                                                  t(importance(model,type=1,scaled = FALSE)))\n",
    "                            , use.names = FALSE)\n",
    "    importance_table = rbind(importance_table, data.table(seed = seed, rep = rep, iter_no = iter\n",
    "                                                  , scaled = \"no\", type = \"2\",\n",
    "                                                  t(importance(model,type=2,scaled = FALSE)))\n",
    "                            , use.names = FALSE)\n",
    "    \n",
    "    importance_table = melt(importance_table, id.vars = c(\"seed\",\"rep\",\"iter_no\",\"scaled\",\"type\")\n",
    "                           , measure.vars = colnames(importance_table[,.SD,.SDcols = -c(\"seed\",\"rep\",\"iter_no\",\"scaled\",\"type\")]))\n",
    "    setnames(importance_table,c(\"variable\"),c(\"feature\"))\n",
    "    \n",
    "    fwrite(importance_table,paste0(outputs.path,model.type,\"_importance_table_\",sample.type,\".csv\"), append = TRUE)\n",
    "\n",
    "}"
   ]
  },
  {
   "cell_type": "markdown",
   "id": "124a239b",
   "metadata": {},
   "source": [
    "### write_test_accuracy"
   ]
  },
  {
   "cell_type": "code",
   "execution_count": 23,
   "id": "b19675ef",
   "metadata": {},
   "outputs": [],
   "source": [
    "write_test_accuracy = function(seed, rep, iter, model, test_set, error_type) {\n",
    "        \n",
    "    test_predictions_Sub = get_test_predictions(model, test_set, error_type)\n",
    "    \n",
    "    predictedLabels_Sub = data.table(seed = i,rep = r,iter,test_predictions_Sub[[1]])\n",
    "    fwrite(predictedLabels_Sub, paste0(outputs.path, PL.folder, model.type, \"_\",\"predictedLabels.\", sample.type, \"_seed_\", i, \"_iter_\", iter, \"_rep_\", r, \".csv\"))\n",
    "    \n",
    "    performance_table_Sub = data.table(iter, seed = i,rep = r, test_predictions_Sub[[2]])\n",
    "    fwrite(performance_table_Sub, paste0(outputs.path, sample.folder, model.type, \"_\",\"performance_table_\", sample.type, \".csv\"), append = TRUE)\n",
    "          \n",
    "}"
   ]
  },
  {
   "cell_type": "markdown",
   "id": "91ca878e",
   "metadata": {},
   "source": [
    "### mtry_default"
   ]
  },
  {
   "cell_type": "code",
   "execution_count": 24,
   "id": "919e7826",
   "metadata": {},
   "outputs": [],
   "source": [
    "mtry_default = function(features){\n",
    "     max(floor(length(features)/3), 1)\n",
    "}"
   ]
  }
 ],
 "metadata": {
  "kernelspec": {
   "display_name": "R",
   "language": "R",
   "name": "ir"
  },
  "language_info": {
   "codemirror_mode": "r",
   "file_extension": ".r",
   "mimetype": "text/x-r-source",
   "name": "R",
   "pygments_lexer": "r",
   "version": "3.6.1"
  }
 },
 "nbformat": 4,
 "nbformat_minor": 5
}
